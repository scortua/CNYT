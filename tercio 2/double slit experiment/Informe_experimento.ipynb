{
 "cells": [
  {
   "cell_type": "markdown",
   "metadata": {},
   "source": [
    "# DOUBLE SLIT EXPERIMENT\n",
    "\n",
    "El experimento de la doble rendija tiene como intención determinar el comportamiento de la luz para conocer la famosa peculiaridad e intigra sobre si comportamiento, siendo similar a una particula y/o a una onda.\n",
    "\n",
    "<p align=\"center\">\n",
    "    <img src=\"images/doubleSlit.png\" alt=\"Deterministic System\" width=\"600\"/>\n",
    "</p>\n",
    "\n",
    "La idea es que la luz debe pasar entre dos rendijas muy cercanas y practicamente iguales, que después de pasar la luz se dividira en zonas de sombra y zonas de luz."
   ]
  },
  {
   "cell_type": "markdown",
   "metadata": {},
   "source": [
    "# EXPERIMENTO\n",
    "\n",
    "1. Se necesitaba primero los materiales para diseñar este sistema.\n",
    "    - Caja de cartón\n",
    "    - Tijeras o bisturí\n",
    "    - Regla\n",
    "    - Pegante\n",
    "    - laser\n",
    "\n",
    "2.  Se procede a diseñar el sistema.\n",
    "    Usando la caja, se corta un lateral para poder pegar el aluminio, se corta un trozo de aluminio en donde se hacen las 2 rendijas lo más simetricas posibles para despues colocar en un lugar fijo en la caja el laser que apuntara entre las rendijas.\n",
    "\n",
    "3. Después del diseño se necesitaba llevar el experimento a un lugar oscuro que permitiera ver de forma clara como respondia la luz del laser."
   ]
  }
 ],
 "metadata": {
  "language_info": {
   "name": "python"
  }
 },
 "nbformat": 4,
 "nbformat_minor": 2
}
