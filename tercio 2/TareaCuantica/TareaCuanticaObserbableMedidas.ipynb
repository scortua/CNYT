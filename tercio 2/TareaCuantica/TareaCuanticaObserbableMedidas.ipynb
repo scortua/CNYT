{
 "cells": [
  {
   "cell_type": "markdown",
   "metadata": {},
   "source": [
    "# Tarea: Teória cuantica básica, obserbable y medidas"
   ]
  },
  {
   "cell_type": "markdown",
   "metadata": {},
   "source": [
    "## SIMULACIÓN DE PRIMER CUÁNTICO DESCRITO EN LA SECCIÓN 4.1\n",
    "\n",
    "El sistema consiste en una partícula confinada a un conjunto discreto de posiciones en una línea. El simulador debe permitir especificar el número de posiciones y un vector ket de estado asignando las amplitudes.\n",
    "\n",
    "1. El sistema debe calcular la probabilidad de encontrarlo en una posición en particular.\n",
    "\n",
    "2. El sistema si se le da otro vector Ket debe buscar la probabilidad de transitar del primer vector al segundo."
   ]
  },
  {
   "cell_type": "code",
   "execution_count": 1,
   "metadata": {},
   "outputs": [
    {
     "name": "stdout",
     "output_type": "stream",
     "text": [
      "La probabilidad en la posición 3 es: [67.03296703]\n"
     ]
    }
   ],
   "source": [
    "import numpy as np\n",
    "# numero de elementos\n",
    "n = int(input(\"Introduce el número de elementos: \"))\n",
    "# vector lleno de ceros\n",
    "v = np.zeros((n, 1), dtype=complex)\n",
    "# llenar el vector con los elementos\n",
    "for i in range(n):\n",
    "  parte_real = float(input(\"Introduce la parte real del elemento {}: \".format(i+1)))\n",
    "  parte_imaginaria = float(input(\"Introduce la parte imaginaria del elemento {}: \".format(i+1)))\n",
    "  v[i] = parte_real + parte_imaginaria*1j\n",
    "# normalizar el vector\n",
    "normas = np.linalg.norm(v)\n",
    "v_normalizado = v / normas\n",
    "# posicion de probabilidad\n",
    "posicion = int(input(\"Introduce la posición donde quieres ver la probabilidad: \"))\n",
    "# calcular la probabilidad\n",
    "probabilidad = abs(v_normalizado[posicion-1])**2\n",
    "# imprimir la probabilidad\n",
    "print(\"La probabilidad en la posición {} es: {}\".format(posicion, probabilidad*100))"
   ]
  },
  {
   "cell_type": "code",
   "execution_count": 7,
   "metadata": {},
   "outputs": [
    {
     "name": "stdout",
     "output_type": "stream",
     "text": [
      "El producto interno de los vectores es: (0.9999999999999998+0j)\n",
      "La probabilidad de que los vectores sean iguales es: 99.99999999999997%\n"
     ]
    }
   ],
   "source": [
    "import numpy as np\n",
    "# numero de elementos\n",
    "n = int(input(\"Introduce el número de elementos: \"))\n",
    "# vector1 lleno de ceros\n",
    "v1 = np.zeros((n, 1), dtype=complex)\n",
    "# llenar el vector con los elementos\n",
    "for i in range(n):\n",
    "  parte_real = float(input(\"Introduce la parte real del elemento {}: \".format(i+1)))\n",
    "  parte_imaginaria = float(input(\"Introduce la parte imaginaria del elemento {}: \".format(i+1)))\n",
    "  v1[i] = parte_real + parte_imaginaria*1j\n",
    "# vector2 lleno de ceros\n",
    "v2 = np.zeros((n, 1), dtype=complex)\n",
    "# llenar el vector con los elementos\n",
    "for i in range(n):\n",
    "  parte_real = float(input(\"Introduce la parte real del elemento {}: \".format(i+1)))\n",
    "  parte_imaginaria = float(input(\"Introduce la parte imaginaria del elemento {}: \".format(i+1)))\n",
    "  v2[i] = parte_real + parte_imaginaria*1j\n",
    "# normalizar los vectores\n",
    "v1_norm = v1/np.linalg.norm(v1)\n",
    "v2_norm = v2/np.linalg.norm(v2)\n",
    "# producto interno\n",
    "producto_interno = np.vdot(v1_norm, v2_norm)\n",
    "# imprimir el producto interno\n",
    "print(\"El producto interno de los vectores es: {}\".format(producto_interno))\n",
    "# probabilidad\n",
    "probabilidad = abs(producto_interno)**2/np.linalg.norm(v2_norm)**2\n",
    "# imprimir la probabilidad\n",
    "print(\"La probabilidad de que los vectores sean iguales es: {}%\".format(probabilidad*100))"
   ]
  },
  {
   "cell_type": "markdown",
   "metadata": {},
   "source": [
    "# RETOS DE PROGRAMACIÓN DEL CAPITULO 4\n",
    "1. Amplitud de transición. El sistema puede recibir dos vectores y calcular la probabilidad de transitar de el uno al otro después de hacer la observación\n",
    "\n",
    "2. Ahora con una matriz que describa un observable y un vector ket, el sistema revisa que la matriz sea hermitiana, y si lo es, calcula la media y la varianza del observable en el estado dado.\n",
    "\n",
    "3. El sistema calcula los valores propios del observable y la probabilidad de que el sistema transite a alguno de los vectores propios después de la observación.\n",
    "\n",
    "4. Se considera la dinámica del sistema. Ahora con una serie de matrices Un el sistema calcula el estado final a partir de un estado inicial."
   ]
  }
 ],
 "metadata": {
  "kernelspec": {
   "display_name": ".venv",
   "language": "python",
   "name": "python3"
  },
  "language_info": {
   "codemirror_mode": {
    "name": "ipython",
    "version": 3
   },
   "file_extension": ".py",
   "mimetype": "text/x-python",
   "name": "python",
   "nbconvert_exporter": "python",
   "pygments_lexer": "ipython3",
   "version": "3.12.4"
  }
 },
 "nbformat": 4,
 "nbformat_minor": 2
}
