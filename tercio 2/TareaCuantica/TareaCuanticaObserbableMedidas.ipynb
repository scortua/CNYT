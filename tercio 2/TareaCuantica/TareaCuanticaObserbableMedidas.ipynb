{
 "cells": [
  {
   "cell_type": "markdown",
   "metadata": {},
   "source": [
    "# Tarea: Teória cuantica básica, obserbable y medidas"
   ]
  },
  {
   "cell_type": "markdown",
   "metadata": {},
   "source": [
    "## SIMULACIÓN DE PRIMER CUÁNTICO DESCRITO EN LA SECCIÓN 4.1\n",
    "\n",
    "El sistema consiste en una partícula confinada a un conjunto discreto de posiciones en una línea. El simulador debe permitir especificar el número de posiciones y un vector ket de estado asignando las amplitudes.\n",
    "\n",
    "1. El sistema debe calcular la probabilidad de encontrarlo en una posición en particular.\n",
    "\n",
    "2. El sistema si se le da otro vector Ket debe buscar la probabilidad de transitar del primer vector al segundo."
   ]
  },
  {
   "cell_type": "markdown",
   "metadata": {},
   "source": [
    "## 1\n",
    "\n",
    "Primero se tiene:\n",
    "\n",
    "Se pide la cantidad de elementos agregados en el vector, despues se ingresan los datos al vector en numero real y despues imaginario.\n",
    "Despúes de tener este vector se normaliza con los valores agregados el vector, la probabilidad de estar en una posicion esta dado por:\n",
    "\n",
    "$P(xj) = \\frac{|Cj|^2}{||\\gamma>|^2} = \\frac{|Cj|^2}{\\sum{|Ci|^2}}$"
   ]
  },
  {
   "cell_type": "code",
   "execution_count": 1,
   "metadata": {},
   "outputs": [
    {
     "name": "stdout",
     "output_type": "stream",
     "text": [
      "La probabilidad en la posición 3 es: [67.03296703]\n"
     ]
    }
   ],
   "source": [
    "import numpy as np\n",
    "# numero de elementos\n",
    "n = int(input(\"Introduce el número de elementos: \"))\n",
    "# vector lleno de ceros\n",
    "v = np.zeros((n, 1), dtype=complex)\n",
    "# llenar el vector con los elementos\n",
    "for i in range(n):\n",
    "  parte_real = float(input(\"Introduce la parte real del elemento {}: \".format(i+1)))\n",
    "  parte_imaginaria = float(input(\"Introduce la parte imaginaria del elemento {}: \".format(i+1)))\n",
    "  v[i] = parte_real + parte_imaginaria*1j\n",
    "# normalizar el vector\n",
    "normas = np.linalg.norm(v)\n",
    "v_normalizado = v / normas\n",
    "# posicion de probabilidad\n",
    "posicion = int(input(\"Introduce la posición donde quieres ver la probabilidad: \"))\n",
    "# calcular la probabilidad\n",
    "probabilidad = abs(v_normalizado[posicion-1])**2\n",
    "# imprimir la probabilidad\n",
    "print(\"La probabilidad en la posición {} es: {}\".format(posicion, probabilidad*100))"
   ]
  },
  {
   "cell_type": "markdown",
   "metadata": {},
   "source": [
    "## 2\n",
    "\n",
    "Para obtener la probabilidad de transición entre estados ket:\n",
    "\n",
    "Se deben ingresar los datos de cada vector KET, normalizar y hacer el producto interno entre los dos ket, es lo mismo que la Amplitud de transición.\n"
   ]
  },
  {
   "cell_type": "code",
   "execution_count": null,
   "metadata": {},
   "outputs": [],
   "source": []
  },
  {
   "cell_type": "code",
   "execution_count": 7,
   "metadata": {},
   "outputs": [
    {
     "name": "stdout",
     "output_type": "stream",
     "text": [
      "El producto interno de los vectores es: (0.9999999999999998+0j)\n",
      "La probabilidad de que los vectores sean iguales es: 99.99999999999997%\n"
     ]
    }
   ],
   "source": [
    "import numpy as np\n",
    "# numero de elementos\n",
    "n = int(input(\"Introduce el número de elementos: \"))\n",
    "# vector1 lleno de ceros\n",
    "v1 = np.zeros((n, 1), dtype=complex)\n",
    "# llenar el vector con los elementos\n",
    "for i in range(n):\n",
    "  parte_real = float(input(\"Introduce la parte real del elemento {}: \".format(i+1)))\n",
    "  parte_imaginaria = float(input(\"Introduce la parte imaginaria del elemento {}: \".format(i+1)))\n",
    "  v1[i] = parte_real + parte_imaginaria*1j\n",
    "# vector2 lleno de ceros\n",
    "v2 = np.zeros((n, 1), dtype=complex)\n",
    "# llenar el vector con los elementos\n",
    "for i in range(n):\n",
    "  parte_real = float(input(\"Introduce la parte real del elemento {}: \".format(i+1)))\n",
    "  parte_imaginaria = float(input(\"Introduce la parte imaginaria del elemento {}: \".format(i+1)))\n",
    "  v2[i] = parte_real + parte_imaginaria*1j\n",
    "# normalizar los vectores\n",
    "v1_norm = v1/np.linalg.norm(v1)\n",
    "v2_norm = v2/np.linalg.norm(v2)\n",
    "# producto interno\n",
    "producto_interno = np.vdot(v1_norm, v2_norm)\n",
    "# imprimir el producto interno\n",
    "print(\"El producto interno de los vectores es: {}\".format(producto_interno))\n",
    "# probabilidad\n",
    "probabilidad = abs(producto_interno)**2/np.linalg.norm(v2_norm)**2\n",
    "# imprimir la probabilidad\n",
    "print(\"La probabilidad de que los vectores sean iguales es: {}%\".format(probabilidad*100))"
   ]
  },
  {
   "cell_type": "markdown",
   "metadata": {},
   "source": [
    "# RETOS DE PROGRAMACIÓN DEL CAPITULO 4\n",
    "1. Amplitud de transición. El sistema puede recibir dos vectores y calcular la probabilidad de transitar de el uno al otro después de hacer la observación\n",
    "\n",
    "2. Ahora con una matriz que describa un observable y un vector ket, el sistema revisa que la matriz sea hermitiana, y si lo es, calcula la media y la varianza del observable en el estado dado.\n",
    "\n",
    "3. El sistema calcula los valores propios del observable y la probabilidad de que el sistema transite a alguno de los vectores propios después de la observación.\n",
    "\n",
    "4. Se considera la dinámica del sistema. Ahora con una serie de matrices Un el sistema calcula el estado final a partir de un estado inicial."
   ]
  },
  {
   "cell_type": "markdown",
   "metadata": {},
   "source": [
    "4.1.1 Write a program that simulates the first quantum system described in this section. The user should be able to specify how many points the particle\n",
    "can occupy (warning: keep the max number low, or you will fairly quickly run out of\n",
    "memory). The user will also specify a ket state vector by assigning its amplitudes.\n",
    "The program, when asked the likelihood of finding the particle at a given point, will\n",
    "perform the calculations described in Example 4.1.1. If the user enters two kets, the\n",
    "system will calculate the probability of transitioning from the first ket to the second,\n",
    "after an observation has been made."
   ]
  },
  {
   "cell_type": "code",
   "execution_count": 3,
   "metadata": {},
   "outputs": [
    {
     "name": "stdout",
     "output_type": "stream",
     "text": [
      "Introduce los valores para el primer vector ket:\n",
      "La probabilidad en la posición 1 es: [50.]%\n"
     ]
    }
   ],
   "source": [
    "import numpy as np\n",
    "\n",
    "def create_ket_vector(n):\n",
    "    v = np.zeros((n, 1), dtype=complex)\n",
    "    for i in range(n):\n",
    "        parte_real = float(input(f\"Introduce la parte real del elemento {i+1}: \"))\n",
    "        parte_imaginaria = float(input(f\"Introduce la parte imaginaria del elemento {i+1}: \"))\n",
    "        v[i] = parte_real + parte_imaginaria*1j\n",
    "    return v\n",
    "\n",
    "def normalize_vector(v):\n",
    "    norm = np.linalg.norm(v)\n",
    "    return v / norm\n",
    "\n",
    "def probability_at_position(v_normalized, position):\n",
    "    return abs(v_normalized[position-1])**2\n",
    "\n",
    "def transition_probability(v1_normalized, v2_normalized):\n",
    "    producto_interno = np.vdot(v1_normalized, v2_normalized)\n",
    "    return abs(producto_interno)**2 / np.linalg.norm(v2_normalized)**2\n",
    "\n",
    "# Número de puntos que la partícula puede ocupar\n",
    "n = int(input(\"Introduce el número de puntos que la partícula puede ocupar: \"))\n",
    "\n",
    "# Crear y normalizar el primer vector ket\n",
    "print(\"Introduce los valores para el primer vector ket:\")\n",
    "v1 = create_ket_vector(n)\n",
    "v1_normalized = normalize_vector(v1)\n",
    "\n",
    "# Preguntar al usuario si desea calcular la probabilidad en una posición o la probabilidad de transición\n",
    "opcion = input(\"¿Deseas calcular la probabilidad en una posición (1) o la probabilidad de transición entre dos kets (2)? \")\n",
    "\n",
    "if opcion == '1':\n",
    "    # Calcular la probabilidad en una posición específica\n",
    "    posicion = int(input(\"Introduce la posición donde quieres ver la probabilidad: \"))\n",
    "    probabilidad = probability_at_position(v1_normalized, posicion)\n",
    "    print(f\"La probabilidad en la posición {posicion} es: {probabilidad*100}%\")\n",
    "elif opcion == '2':\n",
    "    # Crear y normalizar el segundo vector ket\n",
    "    print(\"Introduce los valores para el segundo vector ket:\")\n",
    "    v2 = create_ket_vector(n)\n",
    "    v2_normalized = normalize_vector(v2)\n",
    "    \n",
    "    # Calcular la probabilidad de transición\n",
    "    probabilidad_transicion = transition_probability(v1_normalized, v2_normalized)\n",
    "    print(f\"La probabilidad de transición entre los dos kets es: {probabilidad_transicion*100}%\")\n",
    "else:\n",
    "    print(\"Opción no válida.\")"
   ]
  },
  {
   "cell_type": "markdown",
   "metadata": {},
   "source": [
    "4.2.1 Continue your simulation of a quantum system by adding\n",
    "observables to the picture: the user will input a square matrix of the appropriate size,\n",
    "and a ket vector. The program will verify that the matrix is hermitian, and if so, it will\n",
    "calculate the mean value and the variance of the observable on the given state."
   ]
  },
  {
   "cell_type": "code",
   "execution_count": null,
   "metadata": {},
   "outputs": [],
   "source": [
    "def is_hermitian(matrix):\n",
    "    return np.allclose(matrix, matrix.conj().T)\n",
    "\n",
    "def mean_value(observable, ket):\n",
    "    return np.vdot(ket, observable @ ket).real\n",
    "\n",
    "def variance(observable, ket, mean_val):\n",
    "    return np.vdot(ket, (observable @ observable) @ ket).real - mean_val**2\n",
    "\n",
    "# Input the observable matrix\n",
    "observable = np.zeros((n, n), dtype=complex)\n",
    "print(\"Introduce los valores para la matriz observable:\")\n",
    "for i in range(n):\n",
    "    for j in range(n):\n",
    "        parte_real = float(input(f\"Introduce la parte real del elemento ({i+1},{j+1}): \"))\n",
    "        parte_imaginaria = float(input(f\"Introduce la parte imaginaria del elemento ({i+1},{j+1}): \"))\n",
    "        observable[i, j] = parte_real + parte_imaginaria*1j\n",
    "\n",
    "# Check if the matrix is Hermitian\n",
    "if is_hermitian(observable):\n",
    "    print(\"La matriz es Hermitiana.\")\n",
    "    \n",
    "    # Calculate the mean value\n",
    "    mean_val = mean_value(observable, v1_normalized)\n",
    "    print(f\"El valor medio del observable es: {mean_val}\")\n",
    "    \n",
    "    # Calculate the variance\n",
    "    var = variance(observable, v1_normalized, mean_val)\n",
    "    print(f\"La varianza del observable es: {var}\")\n",
    "else:\n",
    "    print(\"La matriz no es Hermitiana.\")"
   ]
  },
  {
   "cell_type": "markdown",
   "metadata": {},
   "source": [
    "4.3.1 Next step in the simulation: when the user enters an observable and a state vector, the program will return the list of eigenvalues of the observable,\n",
    "the mean value of the observable on the state, and the probability that the state will\n",
    "transition to each one of the eigenstates. Optional: plot the corresponding probability\n",
    "distributi"
   ]
  },
  {
   "cell_type": "code",
   "execution_count": null,
   "metadata": {},
   "outputs": [],
   "source": [
    "import matplotlib.pyplot as plt\n",
    "\n",
    "def eigenvalues_and_eigenvectors(observable):\n",
    "    eigenvalues, eigenvectors = np.linalg.eigh(observable)\n",
    "    return eigenvalues, eigenvectors\n",
    "\n",
    "def transition_probabilities(eigenvectors, ket):\n",
    "    probabilities = np.abs(np.dot(eigenvectors.T.conj(), ket))**2\n",
    "    return probabilities\n",
    "\n",
    "# Input the observable matrix\n",
    "observable = np.zeros((n, n), dtype=complex)\n",
    "print(\"Introduce los valores para la matriz observable:\")\n",
    "for i in range(n):\n",
    "    for j in range(n):\n",
    "        parte_real = float(input(f\"Introduce la parte real del elemento ({i+1},{j+1}): \"))\n",
    "        parte_imaginaria = float(input(f\"Introduce la parte imaginaria del elemento ({i+1},{j+1}): \"))\n",
    "        observable[i, j] = parte_real + parte_imaginaria*1j\n",
    "\n",
    "# Check if the matrix is Hermitian\n",
    "if is_hermitian(observable):\n",
    "    print(\"La matriz es Hermitiana.\")\n",
    "    \n",
    "    # Calculate eigenvalues and eigenvectors\n",
    "    eigenvalues, eigenvectors = eigenvalues_and_eigenvectors(observable)\n",
    "    print(f\"Los valores propios del observable son: {eigenvalues}\")\n",
    "    \n",
    "    # Calculate the mean value\n",
    "    mean_val = mean_value(observable, v1_normalized)\n",
    "    print(f\"El valor medio del observable es: {mean_val}\")\n",
    "    \n",
    "    # Calculate transition probabilities\n",
    "    probabilities = transition_probabilities(eigenvectors, v1_normalized)\n",
    "    print(f\"Las probabilidades de transición a cada uno de los eigenestados son: {probabilities}\")\n",
    "    \n",
    "    # Optional: Plot the probability distribution\n",
    "    plt.bar(range(1, n+1), probabilities.flatten())\n",
    "    plt.xlabel('Eigenstate Index')\n",
    "    plt.ylabel('Probability')\n",
    "    plt.title('Probability Distribution of Transition to Eigenstates')\n",
    "    plt.show()\n",
    "else:\n",
    "    print(\"La matriz no es Hermitiana.\")"
   ]
  },
  {
   "cell_type": "markdown",
   "metadata": {},
   "source": [
    "4.4.1 Add dynamics to your computer simulation of the particle\n",
    "on a grid: the user should input a number of time steps n, and a corresponding sequence of unitary matrices Un of the appropriate size. The program will then compute\n",
    "the state vector after the entire sequence Un has been appli"
   ]
  },
  {
   "cell_type": "code",
   "execution_count": null,
   "metadata": {},
   "outputs": [],
   "source": [
    "def is_unitary(matrix):\n",
    "    return np.allclose(np.eye(matrix.shape[0]), matrix @ matrix.conj().T)\n",
    "\n",
    "def apply_unitary_sequence(ket, unitary_matrices):\n",
    "    for U in unitary_matrices:\n",
    "        ket = U @ ket\n",
    "    return ket\n",
    "\n",
    "# Input the number of time steps\n",
    "num_time_steps = int(input(\"Introduce el número de pasos de tiempo: \"))\n",
    "\n",
    "# Input the sequence of unitary matrices\n",
    "unitary_matrices = []\n",
    "for t in range(num_time_steps):\n",
    "    U = np.zeros((n, n), dtype=complex)\n",
    "    print(f\"Introduce los valores para la matriz unitaria U{t+1}:\")\n",
    "    for i in range(n):\n",
    "        for j in range(n):\n",
    "            parte_real = float(input(f\"Introduce la parte real del elemento ({i+1},{j+1}): \"))\n",
    "            parte_imaginaria = float(input(f\"Introduce la parte imaginaria del elemento ({i+1},{j+1}): \"))\n",
    "            U[i, j] = parte_real + parte_imaginaria*1j\n",
    "    if is_unitary(U):\n",
    "        unitary_matrices.append(U)\n",
    "    else:\n",
    "        print(f\"La matriz U{t+1} no es unitaria. Inténtalo de nuevo.\")\n",
    "        break\n",
    "\n",
    "if len(unitary_matrices) == num_time_steps:\n",
    "    # Apply the sequence of unitary matrices to the state vector\n",
    "    final_state = apply_unitary_sequence(v1_normalized, unitary_matrices)\n",
    "    print(f\"El vector de estado final después de aplicar la secuencia de matrices unitarias es:\\n{final_state}\")\n",
    "else:\n",
    "    print(\"No se pudo completar la secuencia de matrices unitarias.\")"
   ]
  },
  {
   "cell_type": "markdown",
   "metadata": {},
   "source": [
    "4.5.1 Expand the simulation of the last sections by letting the\n",
    "user choose the number of particle"
   ]
  },
  {
   "cell_type": "code",
   "execution_count": null,
   "metadata": {},
   "outputs": [],
   "source": [
    "def create_ket_vector(num_particles, n):\n",
    "    v = np.zeros((num_particles, n, 1), dtype=complex)\n",
    "    for p in range(num_particles):\n",
    "        print(f\"Introduce los valores para el vector ket del partícula {p+1}:\")\n",
    "        for i in range(n):\n",
    "            parte_real = float(input(f\"Introduce la parte real del elemento {i+1}: \"))\n",
    "            parte_imaginaria = float(input(f\"Introduce la parte imaginaria del elemento {i+1}: \"))\n",
    "            v[p, i] = parte_real + parte_imaginaria*1j\n",
    "    return v\n",
    "\n",
    "def normalize_vectors(v):\n",
    "    norms = np.linalg.norm(v, axis=1, keepdims=True)\n",
    "    return v / norms\n",
    "\n",
    "def probability_at_position(v_normalized, particle_index, position):\n",
    "    return abs(v_normalized[particle_index, position-1])**2\n",
    "\n",
    "def transition_probability(v1_normalized, v2_normalized, particle_index):\n",
    "    producto_interno = np.vdot(v1_normalized[particle_index], v2_normalized[particle_index])\n",
    "    return abs(producto_interno)**2 / np.linalg.norm(v2_normalized[particle_index])**2\n",
    "\n",
    "# Número de partículas\n",
    "num_particles = int(input(\"Introduce el número de partículas: \"))\n",
    "\n",
    "# Crear y normalizar los vectores ket para cada partícula\n",
    "v1 = create_ket_vector(num_particles, n)\n",
    "v1_normalized = normalize_vectors(v1)\n",
    "\n",
    "# Preguntar al usuario si desea calcular la probabilidad en una posición o la probabilidad de transición\n",
    "opcion = input(\"¿Deseas calcular la probabilidad en una posición (1) o la probabilidad de transición entre dos kets (2)? \")\n",
    "\n",
    "if opcion == '1':\n",
    "    # Calcular la probabilidad en una posición específica para una partícula específica\n",
    "    particle_index = int(input(\"Introduce el índice de la partícula (1 a {}): \".format(num_particles))) - 1\n",
    "    posicion = int(input(\"Introduce la posición donde quieres ver la probabilidad: \"))\n",
    "    probabilidad = probability_at_position(v1_normalized, particle_index, posicion)\n",
    "    print(f\"La probabilidad en la posición {posicion} para la partícula {particle_index+1} es: {probabilidad*100}%\")\n",
    "elif opcion == '2':\n",
    "    # Crear y normalizar el segundo conjunto de vectores ket para cada partícula\n",
    "    v2 = create_ket_vector(num_particles, n)\n",
    "    v2_normalized = normalize_vectors(v2)\n",
    "    \n",
    "    # Calcular la probabilidad de transición para una partícula específica\n",
    "    particle_index = int(input(\"Introduce el índice de la partícula (1 a {}): \".format(num_particles))) - 1\n",
    "    probabilidad_transicion = transition_probability(v1_normalized, v2_normalized, particle_index)\n",
    "    print(f\"La probabilidad de transición entre los dos kets para la partícula {particle_index+1} es: {probabilidad_transicion*100}%\")\n",
    "else:\n",
    "    print(\"Opción no válida.\")"
   ]
  },
  {
   "cell_type": "markdown",
   "metadata": {},
   "source": [
    "# MODELACIÓN DE PROBLEMAS\n",
    "\n",
    "4.3.1 \n",
    " Let $\\Omega$ be an observable and $|\\gamma>$ be a state. If the result of measuring $\\Omega$ is the eigenvalue $\\lambda$, the state after measurement will always be an eigenvector corresponding to $\\lambda$.\n",
    "\n",
    "Find all the possible states the system described in Exercise 4.2.2 can transition into after a measurement has been carried out.\n",
    "> Consider a particle in initial spin up. Apply $S_x$ to it and determine the probability that the resulting state is still spin up.\n",
    "\n",
    "$$\n",
    "S_x = \\frac{h}{2}\\begin{bmatrix}\n",
    "0 & 1 \\\\\n",
    "1 & 0 \\end{bmatrix}\n",
    "\n",
    "spin up = \\begin{bmatrix}\n",
    "1 \\\\ 0 \\end{bmatrix}\n",
    "\n",
    "spin down = \\begin{bmatrix}\n",
    "0 \\\\ 1 \\end{bmatrix}\n",
    "$$\n",
    "\n",
    "4.3.2 \n",
    " Perform the same calculations as in the last example, using Exercise 4.3.1. Then draw the probability distribution of the eigenvalues as in the previous example.\n",
    "\n",
    "4.4.1\n",
    " Verify those matrixes are unitary matrices. Multiply them and verify that their product is also unitary. \n",
    "$$\n",
    "  \\mathbf{U_1} = \\begin{bmatrix} 0 & 1 \\\\ 1 & 0 \\end{bmatrix}, \\quad \\mathbf{U_2} = \\begin{bmatrix} \\frac{\\sqrt(2)}{2} & \\frac{\\sqrt(2)}{2} \\\\ \\frac{\\sqrt(2)}{2} & -\\frac{\\sqrt(2)}{2} \\end{bmatrix}\n",
    "$$\n",
    "\n",
    "4.4.2\n",
    " Go back to Example 3.3.2 (quantum billiard ball), keep the same initial state vector [1, 0, 0, 0]T, but change the unitary map to\n",
    "$$ \n",
    "\\begin{bmatrix} \n",
    "0 & \\frac{1}{\\sqrt(2)} & \\frac{1}{\\sqrt(2)} & 0 \\\\\n",
    "\\frac{i}{\\sqrt(2)} & 0 & 0 & \\frac{1}{\\sqrt(2)} \\\\\n",
    "\\frac{1}{\\sqrt(2)} & 0 & 0 & \\frac{i}{\\sqrt(2)} \\\\\n",
    "0 & \\frac{1}{\\sqrt(2)} & -\\frac{1}{\\sqrt(2)} & 0 \n",
    "\\end{bmatrix}\n",
    "$$\n",
    " Determine the state of the system after three time steps. What is the chance of the quantum ball to be found at point 3?\n",
    "\n",
    "4.5.2\n",
    " Write down the generic state vector for the system of two particles with spin. Generalize it to a system with n particles (this is important: it will be the physical realization for quantum registers!).\n",
    "\n",
    "4.5.3\n",
    "Assume the same scenario as in Example 4.5.2 and let\n",
    "$$ |\\phi> = |x_0> \\otimes |y_1> + |x_1> \\otimes |y_1> $$\n",
    "Is this state separable?\n"
   ]
  },
  {
   "cell_type": "code",
   "execution_count": 7,
   "metadata": {},
   "outputs": [
    {
     "name": "stdout",
     "output_type": "stream",
     "text": [
      "La matriz sigma_x es:\n",
      "[[0.00000000e+00 5.27285863e-35]\n",
      " [5.27285863e-35 0.00000000e+00]]\n",
      "El estado inicial es:\n",
      "[[1]\n",
      " [0]]\n",
      "El estado final después de aplicar sigma_x es:\n",
      "[[0.00000000e+00]\n",
      " [5.27285863e-35]]\n",
      "La probabilidad de que la partícula esté en el estado final igual al estado inicial es: 0.0%\n"
     ]
    }
   ],
   "source": [
    "#4.3.1\n",
    "import numpy as np\n",
    "\n",
    "h = 1.054571726 * 10**(-34)  # Constante de Planck reducida en J*s\n",
    "\n",
    "sx = np.array([[0, 1], [1, 0]]) * h/2\n",
    "\n",
    "print(\"La matriz sigma_x es:\")\n",
    "print(sx)\n",
    "\n",
    "xi = np.array([[1], [0]]) # Estado inicial spin up\n",
    "\n",
    "print(\"El estado inicial es:\")\n",
    "print(xi)\n",
    "\n",
    "xf = np.dot(sx, xi) # Estado final después de aplicar sigma_x\n",
    "\n",
    "print(\"El estado final después de aplicar sigma_x es:\")\n",
    "print(xf)\n",
    "\n",
    "#probabilidad de que la partícula esté en el estado final igual al estado inicial\n",
    "probabilidad = np.abs(np.vdot(xi, xf))**2\n",
    "print(f\"La probabilidad de que la partícula esté en el estado final igual al estado inicial es: {probabilidad*100}%\")"
   ]
  },
  {
   "cell_type": "code",
   "execution_count": null,
   "metadata": {},
   "outputs": [],
   "source": [
    "#4.3.2\n",
    "import numpy as np"
   ]
  },
  {
   "cell_type": "code",
   "execution_count": 8,
   "metadata": {},
   "outputs": [
    {
     "name": "stdout",
     "output_type": "stream",
     "text": [
      "La matriz U1 es unitaria: True\n",
      "La matriz U2 es unitaria: True\n",
      "El producto de U1 y U2 es unitario: True\n"
     ]
    }
   ],
   "source": [
    "#4.4.1\n",
    "import numpy as np\n",
    "\n",
    "U1 = np.array([[0, 1], [1, 0]])\n",
    "U2 = np.array([[1, 1], [1, -1]]) * np.sqrt(2) / 2\n",
    "\n",
    "# Comprobar si las matrices son unitarias\n",
    "unitary1 = np.allclose(np.eye(2), np.dot(U1, U1.conj().T))\n",
    "print(f\"La matriz U1 es unitaria: {unitary1}\")\n",
    "unitary2 = np.allclose(np.eye(2), np.dot(U2, U2.conj().T))\n",
    "print(f\"La matriz U2 es unitaria: {unitary2}\")\n",
    "\n",
    "# multiplicacion de matrices para verificar si la multilplicacion es unitaria\n",
    "unitary_product = np.dot(U1, U2)\n",
    "unitary_product_check = np.allclose(np.eye(2), np.dot(unitary_product, unitary_product.conj().T))\n",
    "print(f\"El producto de U1 y U2 es unitario: {unitary_product_check}\")"
   ]
  },
  {
   "cell_type": "code",
   "execution_count": 17,
   "metadata": {},
   "outputs": [
    {
     "name": "stdout",
     "output_type": "stream",
     "text": [
      "El estado final después de aplicar la matriz unitaria 3 veces es:\n",
      "[[ 0.        +0.j        ]\n",
      " [-0.70710678+0.70710678j]\n",
      " [ 0.        +0.j        ]\n",
      " [ 0.        +0.j        ]]\n"
     ]
    }
   ],
   "source": [
    "#4.4.2\n",
    "import numpy as np\n",
    "\n",
    "h = 1.054571726 * 10**(-34)  # Constante de Planck reducida en J*s\n",
    "\n",
    "xi = np.array([[1], [0], [0], [0]]) # Estado inicial\n",
    "\n",
    "U = np.array([[0, 1/np.sqrt(2), 1/np.sqrt(2), 0], [1j/np.sqrt(2), 0, 0, 1/np.sqrt(2)], [1/np.sqrt(2), 0, 0, 1j/np.sqrt(2)], [0, 1/np.sqrt(2), -1/np.sqrt(2), 0]]) # Matriz unitaria\n",
    "\n",
    "n = int(input(\"Introduce el número de ticks: \"))\n",
    "\n",
    "# Aplicar la matriz unitaria n veces\n",
    "for i in range(n):\n",
    "    xi = np.dot(U, xi)\n",
    "\n",
    "print(\"El estado final después de aplicar la matriz unitaria {} veces es:\".format(n))\n",
    "print(xi)"
   ]
  },
  {
   "cell_type": "markdown",
   "metadata": {},
   "source": [
    "#4.5.1\n",
    "Como en el ejemplo 4.5.1 se tiene que proponer el mismo sistema pero con n=m=4 y Cj = 1+i\n",
    "$$ \n",
    "{|\\gamma\\rangle = (1+i)|x_0\\rangle\\otimes|y_0\\rangle + (1+i)|x_0\\rangle\\otimes|y_1\\rangle +\\\\\n",
    "                     (1+i)|x_1\\rangle\\otimes|y_0\\rangle + (1+i)|x_1\\rangle\\otimes|y_1\\rangle +\\\\\n",
    "                     (1+i)|x_2\\rangle\\otimes|y_0\\rangle + (1+i)|x_2\\rangle\\otimes|y_1\\rangle +\\\\\n",
    "                     (1+i)|x_3\\rangle\\otimes|y_0\\rangle + (1+i)|x_3\\rangle\\otimes|y_1\\rangle +\\\\\n",
    "                     (1+i)|x_4\\rangle\\otimes|y_0\\rangle + (1+i)|x_4\\rangle\\otimes|y_1\\rangle +\\\\\n",
    "                     (1+i)|x_5\\rangle\\otimes|y_0\\rangle + (1+i)|x_5\\rangle\\otimes|y_1\\rangle +\\\\\n",
    "                     (1+i)|x_6\\rangle\\otimes|y_0\\rangle + (1+i)|x_6\\rangle\\otimes|y_1\\rangle +\\\\\n",
    "                     (1+i)|x_7\\rangle\\otimes|y_0\\rangle + (1+i)|x_7\\rangle\\otimes|y_1\\rangle} \n",
    "$$\n",
    "Donde de igual forma para calcular la probabilidad de un punto se tiene:\n",
    "$$\n",
    "p(xi,yj) = \\frac{|ci|}{\\sum{|ci|}^2}\n",
    "$$\n",
    "\n",
    "#4.5.2\n",
    "$$\n",
    "\\text{para 2 particulas}\\\\\n",
    "|\\psi\\rangle = \\alpha |\\uparrow\\rangle_1 \\otimes |\\uparrow\\rangle_2 + \\beta |\\uparrow\\rangle_1 \\otimes |\\downarrow\\rangle_2 + \\gamma |\\downarrow\\rangle_1 \\otimes |\\uparrow\\rangle_2 + \\delta |\\downarrow\\rangle_1 \\otimes |\\downarrow\\rangle_2\\\\\n",
    "\\text{para n particulas}\\\\\n",
    "|\\psi\\rangle = \\sum_{i_1,i_2,...,i_n} c_{i_1,i_2,...,i_n} |i_1\\rangle_1 \\otimes |i_2\\rangle_2 \\otimes ... \\otimes |i_n\\rangle_n\\\\\n",
    "$$\n",
    "\n",
    "#4.5.3\n"
   ]
  },
  {
   "cell_type": "markdown",
   "metadata": {},
   "source": []
  }
 ],
 "metadata": {
  "kernelspec": {
   "display_name": ".venv",
   "language": "python",
   "name": "python3"
  },
  "language_info": {
   "codemirror_mode": {
    "name": "ipython",
    "version": 3
   },
   "file_extension": ".py",
   "mimetype": "text/x-python",
   "name": "python",
   "nbconvert_exporter": "python",
   "pygments_lexer": "ipython3",
   "version": "3.12.4"
  }
 },
 "nbformat": 4,
 "nbformat_minor": 2
}
