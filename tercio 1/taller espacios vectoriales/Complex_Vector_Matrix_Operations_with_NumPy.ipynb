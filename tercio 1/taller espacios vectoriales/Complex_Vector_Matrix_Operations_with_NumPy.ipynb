{
 "cells": [
  {
   "cell_type": "markdown",
   "id": "a07bd584",
   "metadata": {},
   "source": [
    "# Theory of Complex Vector Spaces\n",
    "Complex vector spaces extend the idea of real vector spaces by allowing vectors to have complex numbers as their components. In these spaces, vectors can be added together and multiplied by complex scalars to produce new vectors. Key operations in complex vector spaces include vector addition, scalar multiplication, vector negation, and complex conjugation."
   ]
  },
  {
   "cell_type": "markdown",
   "id": "f43fc972-23ab-4d81-aa26-c51325dac8f3",
   "metadata": {},
   "source": [
    "# Creating complex column vectors"
   ]
  },
  {
   "cell_type": "code",
   "execution_count": 1,
   "id": "029f08ba-1cdc-4928-9631-f62c51ab7aa5",
   "metadata": {},
   "outputs": [
    {
     "name": "stdout",
     "output_type": "stream",
     "text": [
      "Matrix:\n",
      " [[2 3]\n",
      " [1 4]]\n",
      "\n",
      "Vector:\n",
      " [5 6]\n",
      "\n",
      "Result of multiplication:\n",
      " [28 29]\n"
     ]
    }
   ],
   "source": [
    "import numpy as np\n",
    "\n",
    "# Define a 2x2 square matrix\n",
    "matrix = np.array([[2, 3],\n",
    "                   [1, 4]])\n",
    "\n",
    "# Define a vector of size 2\n",
    "vector = np.array([5, 6])\n",
    "\n",
    "# Multiply the matrix by the vector\n",
    "result = np.dot(matrix, vector)\n",
    "\n",
    "# Display the result\n",
    "print(\"Matrix:\\n\", matrix)\n",
    "print(\"\\nVector:\\n\", vector)\n",
    "print(\"\\nResult of multiplication:\\n\", result)\n"
   ]
  },
  {
   "cell_type": "markdown",
   "id": "975c2284",
   "metadata": {},
   "source": [
    "## Manipulating Complex Column Vectors using NumPy\n",
    "Here we demonstrate how to manipulate complex column vectors using NumPy, including operations like sum, negation, multiplication by a scalar, transpose, adjunct, and conjugate."
   ]
  },
  {
   "cell_type": "code",
   "execution_count": 1,
   "id": "e8058abe",
   "metadata": {},
   "outputs": [
    {
     "data": {
      "text/plain": [
       "(array([[3.+2.j],\n",
       "        [8.-2.j],\n",
       "        [5.-3.j]]),\n",
       " array([[-2.-3.j],\n",
       "        [-5.+4.j],\n",
       "        [-1.-1.j]]),\n",
       " array([[ 1.+8.j],\n",
       "        [14.-3.j],\n",
       "        [ 1.+3.j]]),\n",
       " array([[2.+3.j, 5.-4.j, 1.+1.j]]),\n",
       " array([[2.-3.j, 5.+4.j, 1.-1.j]]),\n",
       " array([[2.-3.j],\n",
       "        [5.+4.j],\n",
       "        [1.-1.j]]))"
      ]
     },
     "execution_count": 1,
     "metadata": {},
     "output_type": "execute_result"
    }
   ],
   "source": [
    "\n",
    "import numpy as np\n",
    "\n",
    "# Define two complex column vectors\n",
    "v1 = np.array([[2+3j], [5-4j], [1+1j]])\n",
    "v2 = np.array([[1-1j], [3+2j], [4-4j]])\n",
    "\n",
    "# Sum\n",
    "sum_v = v1 + v2\n",
    "\n",
    "# Negation\n",
    "neg_v1 = -v1\n",
    "\n",
    "# Multiplication by a scalar\n",
    "scalar = 2 + 1j\n",
    "mult_v1 = v1 * scalar\n",
    "\n",
    "# Transpose\n",
    "transpose_v1 = v1.T\n",
    "\n",
    "# Adjunct (Conjugate transpose)\n",
    "adjunct_v1 = v1.T.conj()\n",
    "\n",
    "# Conjugate\n",
    "conjugate_v1 = np.conjugate(v1)\n",
    "\n",
    "(sum_v, neg_v1, mult_v1, transpose_v1, adjunct_v1, conjugate_v1)\n"
   ]
  },
  {
   "cell_type": "markdown",
   "id": "995ae5fc",
   "metadata": {},
   "source": [
    "# Theory of Vector Spaces using Matrices\n",
    "In the context of matrices, vector spaces can be defined where each vector is a matrix of a particular size. Operations on these matrix-vector spaces include matrix addition, scalar multiplication, matrix negation, transpose, adjunct, and conjugate. In this section, we focus on square matrices of size 3x3."
   ]
  },
  {
   "cell_type": "markdown",
   "id": "9385c1f0",
   "metadata": {},
   "source": [
    "## Manipulating Square Matrices using NumPy\n",
    "Examples of how to manipulate 3x3 square matrices using NumPy, showing operations such as sum, negation, multiplication by a scalar, conjugate, transpose, and adjunct."
   ]
  },
  {
   "cell_type": "code",
   "execution_count": 3,
   "id": "b81ecc57",
   "metadata": {},
   "outputs": [
    {
     "data": {
      "text/plain": [
       "(array([[3.+3.j, 6.+0.j, 3.-3.j],\n",
       "        [1.+1.j, 2.+5.j, 6.-2.j],\n",
       "        [7.+3.j, 8.-2.j, 5.+3.j]]),\n",
       " array([[-2.-3.j, -4.+1.j, -0.-0.j],\n",
       "        [-1.-1.j, -3.-3.j, -5.-0.j],\n",
       "        [-4.-0.j, -6.+2.j, -1.+1.j]]),\n",
       " array([[-0.5+2.5j,  2.5+1.5j,  0. +0.j ],\n",
       "        [ 0. +1.j ,  0. +3.j ,  2.5+2.5j],\n",
       "        [ 2. +2.j ,  4. +2.j ,  1. +0.j ]]),\n",
       " array([[2.-3.j, 4.+1.j, 0.-0.j],\n",
       "        [1.-1.j, 3.-3.j, 5.-0.j],\n",
       "        [4.-0.j, 6.+2.j, 1.+1.j]]),\n",
       " array([[2.+3.j, 1.+1.j, 4.+0.j],\n",
       "        [4.-1.j, 3.+3.j, 6.-2.j],\n",
       "        [0.+0.j, 5.+0.j, 1.-1.j]]),\n",
       " array([[2.-3.j, 1.-1.j, 4.-0.j],\n",
       "        [4.+1.j, 3.-3.j, 6.+2.j],\n",
       "        [0.-0.j, 5.-0.j, 1.+1.j]]))"
      ]
     },
     "execution_count": 3,
     "metadata": {},
     "output_type": "execute_result"
    }
   ],
   "source": [
    "\n",
    "# Define two 3x3 complex matrices\n",
    "m1 = np.array([[2+3j, 4-1j, 0], \n",
    "               [1+1j, 3+3j, 5], \n",
    "               [4, 6-2j, 1-1j]])\n",
    "m2 = np.array([[1, 2+1j, 3-3j], \n",
    "               [0, -1+2j, 1-2j], \n",
    "               [3+3j, 2, 4+4j]])\n",
    "\n",
    "# Sum\n",
    "sum_m = m1 + m2\n",
    "\n",
    "# Negation\n",
    "neg_m1 = -m1\n",
    "\n",
    "# Multiplication by a scalar\n",
    "scalar = 0.5 + 0.5j\n",
    "mult_m1 = m1 * scalar\n",
    "\n",
    "# Conjugate\n",
    "conjugate_m1 = np.conjugate(m1)\n",
    "\n",
    "# Transpose\n",
    "transpose_m1 = m1.T\n",
    "\n",
    "# Adjunct (Conjugate transpose)\n",
    "adjunct_m1 = m1.T.conj()\n",
    "\n",
    "(sum_m, neg_m1, mult_m1, conjugate_m1, transpose_m1, adjunct_m1)\n"
   ]
  },
  {
   "cell_type": "markdown",
   "id": "ed909545-8a5c-4cca-85f7-48688b597598",
   "metadata": {},
   "source": [
    "## Checking the Dimension of a Matrix\n",
    "We can check the dimension of a matrix using the `.shape` attribute."
   ]
  },
  {
   "cell_type": "code",
   "execution_count": 4,
   "id": "0930dc10-af6d-427f-bbcb-75bfaf051db5",
   "metadata": {},
   "outputs": [
    {
     "data": {
      "text/plain": [
       "(3, 3)"
      ]
     },
     "execution_count": 4,
     "metadata": {},
     "output_type": "execute_result"
    }
   ],
   "source": [
    "# Checking the dimension of matrix1\n",
    "m1.shape"
   ]
  },
  {
   "cell_type": "markdown",
   "id": "b3fe896b",
   "metadata": {},
   "source": [
    "## Action of a Matrix on a Vector\n",
    "Finally, examples of how to use Python to multiply a 3x3 square matrix by a 3x1 column vector."
   ]
  },
  {
   "cell_type": "code",
   "execution_count": 5,
   "id": "e514d047",
   "metadata": {},
   "outputs": [
    {
     "data": {
      "text/plain": [
       "array([[11. -9.j],\n",
       "       [31.+13.j],\n",
       "       [32.-22.j]])"
      ]
     },
     "execution_count": 5,
     "metadata": {},
     "output_type": "execute_result"
    }
   ],
   "source": [
    "\n",
    "# Multiplying a 3x3 matrix by a 3x1 vector\n",
    "result = np.dot(m1, v1)\n",
    "result\n"
   ]
  },
  {
   "cell_type": "markdown",
   "id": "5adf9d8a-af43-4074-ab1a-3cabdc4accff",
   "metadata": {},
   "source": [
    "# Exercises on Complex Vectors and Matrices with Concrete Cases\n",
    "\n",
    "This set of exercises focuses on operations with complex column vectors and complex square matrices, including concrete cases with vectors and matrices written in LaTeX format.\n",
    "\n",
    "## Complex Column Vector Operations\n",
    "\n",
    "### Exercise 1: Sum of Two Complex Vectors\n",
    "Given two complex vectors \n",
    "$ v1 = \\begin{bmatrix} 1 + 2i \\\\ 3 - i \\end{bmatrix} $ \n",
    "and \n",
    "$ v2 = \\begin{bmatrix} 2 - i \\\\ 4 + 2i \\end{bmatrix} $, \n",
    "find their sum.\n",
    "\n",
    "### Exercise 2: Negation of a Complex Vector\n",
    "Given a complex vector \n",
    "$ v = \\begin{bmatrix} 2 + 3i \\\\ 1 - 2i \\end{bmatrix} $, \n",
    "find its negation.\n",
    "\n",
    "### Exercise 3: Multiplication of a Complex Vector by a Scalar\n",
    "Multiply the complex vector \n",
    "$ v = \\begin{bmatrix} 1 - i \\\\ 2 + 2i \\end{bmatrix} $ \n",
    "by the complex scalar $$ 3 + i $$.\n",
    "\n",
    "### Exercise 4: Transpose of a Complex Vector\n",
    "Find the transpose of the complex vector \n",
    "$ v = \\begin{bmatrix} 2 - i \\\\ 3 + 4i \\end{bmatrix} $.\n",
    "\n",
    "### Exercise 5: Conjugate of a Complex Vector\n",
    "Compute the conjugate of the complex vector \n",
    "$ v = \\begin{bmatrix} 1 + i \\\\ 2 - 3i \\end{bmatrix} $.\n",
    "\n",
    "### Exercise 6: Adjunct (Conjugate Transpose) of a Complex Vector\n",
    "Find the adjunct (or conjugate transpose) of the complex vector \n",
    "$ v = \\begin{bmatrix} 1 - 2i \\\\ 3 + i \\end{bmatrix} $.\n",
    "\n",
    "## Complex Square Matrix Operations\n",
    "\n",
    "### Exercise 7: Sum of Two Complex Matrices\n",
    "Given two complex matrices \n",
    "$ m1 = \\begin{bmatrix} 1 + i & 2 - i \\\\ 3 + 2i & 4 \\end{bmatrix} $\n",
    "and \n",
    "$ m2 = \\begin{bmatrix} 2 - 3i & 1 \\\\ i & 2 + 2i \\end{bmatrix} $, \n",
    "calculate their sum.\n",
    "\n",
    "### Exercise 8: Negation of a Complex Matrix\n",
    "Find the negation of the complex matrix \n",
    "$ m = \\begin{bmatrix} 2 + i & 3 \\\\ 1 - i & 2 + 2i \\end{bmatrix} $.\n",
    "\n",
    "### Exercise 9: Multiplication of a Complex Matrix by a Scalar\n",
    "Multiply the complex matrix \n",
    "$ m = \\begin{bmatrix} 1 - i & 2 \\\\ 3 + i & 4 - 2i \\end{bmatrix} $ \n",
    "by the complex scalar $$ 2 + 3i $$.\n",
    "\n",
    "### Exercise 10: Conjugate of a Complex Matrix\n",
    "Compute the conjugate of the complex matrix \n",
    "$ m = \\begin{bmatrix} 1 + i & 2 \\\\ 3 - i & 4 + 2i \\end{bmatrix} $.\n",
    "\n",
    "### Exercise 11: Transpose of a Complex Matrix\n",
    "Find the transpose of the complex matrix \n",
    "$ m = \\begin{bmatrix} 1 - i & 2 + 2i \\\\ 3 & 4 - i \\end{bmatrix} $.\n",
    "\n",
    "### Exercise 12: Adjunct (Conjugate Transpose) of a Complex Matrix\n",
    "Calculate the adjunct (or conjugate transpose) of the complex matrix \n",
    "$ m = \\begin{bmatrix} 1 + 2i & 3 - i \\\\ 4 & 5 + i \\end{bmatrix} $.\n",
    "\n",
    "### Exercise 13: Checking the Dimensions of a Matrix\n",
    "Determine the dimensions of the complex matrix \n",
    "$ m = \\begin{bmatrix} 1 - i & 2 \\\\ 3 + 2i & 4 - i \\end{bmatrix} $.\n",
    "\n",
    "## Multiplication of Matrices and Vectors\n",
    "\n",
    "### Exercise 14: Multiplying a Complex Square Matrix by a Complex Column Vector\n",
    "Multiply the complex square matrix \n",
    "$ m = \\begin{bmatrix} 1 + i & 2 - i \\\\ 3 & 4 + i \\end{bmatrix} $ \n",
    "by the complex column vector \n",
    "$ v = \\begin{bmatrix} 2 - i \\\\ 1 + 3i \\end{bmatrix} $.\n",
    "\n",
    "## Instructions\n",
    "For each exercise, ensure to display both the input (vectors/matrices) and the result of the operation.Use NumPy for these exercises to practice handling complex numbers and matrix operations in Python.\n"
   ]
  },
  {
   "cell_type": "markdown",
   "id": "ee941002",
   "metadata": {},
   "source": [
    "# SOLUCIÓN VECTORES COMPLEJOS"
   ]
  },
  {
   "cell_type": "markdown",
   "id": "f9250a1f",
   "metadata": {},
   "source": [
    "## Ejercicio 1: suma de 2 vectores complejos"
   ]
  },
  {
   "cell_type": "code",
   "execution_count": 2,
   "id": "3a2054da",
   "metadata": {},
   "outputs": [
    {
     "data": {
      "text/plain": [
       "array([[3.+1.j],\n",
       "       [7.-3.j]])"
      ]
     },
     "execution_count": 2,
     "metadata": {},
     "output_type": "execute_result"
    }
   ],
   "source": [
    "import numpy\n",
    "\n",
    "# Define a 2x1 matrix\n",
    "v1 = numpy.array([[1+2j], [3-1j]])\n",
    "v2 = numpy.array([[2-1j], [4-2j]])\n",
    "\n",
    "# compute the sum of the two vectors\n",
    "sum_v = v1 + v2\n",
    "\n",
    "sum_v"
   ]
  },
  {
   "cell_type": "markdown",
   "id": "f4aa0fd8",
   "metadata": {},
   "source": [
    "## Ejercicio 2: negación de vector complejo"
   ]
  },
  {
   "cell_type": "code",
   "execution_count": 3,
   "id": "93f11c8c",
   "metadata": {},
   "outputs": [
    {
     "data": {
      "text/plain": [
       "array([[-2.-3.j],\n",
       "       [-1.+2.j]])"
      ]
     },
     "execution_count": 3,
     "metadata": {},
     "output_type": "execute_result"
    }
   ],
   "source": [
    "import numpy as np\n",
    "\n",
    "# Define a 2x1 matrix\n",
    "v1 = np.array([[2+3j], [1-2j]])\n",
    "\n",
    "# Compute the negation of the vector\n",
    "neg_v1 = -v1\n",
    "\n",
    "neg_v1"
   ]
  },
  {
   "cell_type": "markdown",
   "id": "5ed4c864",
   "metadata": {},
   "source": [
    "## Ejercicio 3: multiplicación de vector complejo con escalar complejo"
   ]
  },
  {
   "cell_type": "code",
   "execution_count": 5,
   "id": "9ced3d69",
   "metadata": {},
   "outputs": [
    {
     "data": {
      "text/plain": [
       "array([[4.-2.j],\n",
       "       [4.+8.j]])"
      ]
     },
     "execution_count": 5,
     "metadata": {},
     "output_type": "execute_result"
    }
   ],
   "source": [
    "import numpy as np\n",
    "\n",
    "scalar = 3 + 1j\n",
    "\n",
    "# Define a 2x1 matrix\n",
    "v1 = np.array([[1-1j], [2+2j]])\n",
    "\n",
    "# Multiply the vector by the scalar\n",
    "mult_v1 = v1 * scalar\n",
    "\n",
    "mult_v1\n"
   ]
  },
  {
   "cell_type": "markdown",
   "id": "503a1ded",
   "metadata": {},
   "source": [
    "## Ejercicico 4: transpuesta de vector complejo"
   ]
  },
  {
   "cell_type": "code",
   "execution_count": 6,
   "id": "70d411ec",
   "metadata": {},
   "outputs": [
    {
     "data": {
      "text/plain": [
       "array([[2.-1.j, 3.+4.j]])"
      ]
     },
     "execution_count": 6,
     "metadata": {},
     "output_type": "execute_result"
    }
   ],
   "source": [
    "import numpy as np\n",
    "\n",
    "# Define a 2x1 matrix\n",
    "v1 = np.array([[2-1j], [3+4j]])\n",
    "\n",
    "# Compute the transpose of the vector\n",
    "transpose_v1 = v1.T\n",
    "\n",
    "transpose_v1"
   ]
  },
  {
   "cell_type": "markdown",
   "id": "7d4c257b",
   "metadata": {},
   "source": [
    "## Ejercicio 5: conjugada de vector complejo"
   ]
  },
  {
   "cell_type": "code",
   "execution_count": 7,
   "id": "eca4023a",
   "metadata": {},
   "outputs": [
    {
     "data": {
      "text/plain": [
       "array([[1.-1.j],\n",
       "       [2.+3.j]])"
      ]
     },
     "execution_count": 7,
     "metadata": {},
     "output_type": "execute_result"
    }
   ],
   "source": [
    "import numpy as np\n",
    "\n",
    "# Define a 2x1 matrix\n",
    "v1 = np.array([[1+1j], [2-3j]])\n",
    "\n",
    "# compute the conjugate of the vector\n",
    "conjugate_v1 = np.conjugate(v1)\n",
    "\n",
    "conjugate_v1"
   ]
  },
  {
   "cell_type": "markdown",
   "id": "11b65938",
   "metadata": {},
   "source": [
    "## Ejercicio 6: adjunta transpuesta de vector complejo"
   ]
  },
  {
   "cell_type": "code",
   "execution_count": 8,
   "id": "814e0949",
   "metadata": {},
   "outputs": [
    {
     "data": {
      "text/plain": [
       "array([[1.+2.j, 3.-1.j]])"
      ]
     },
     "execution_count": 8,
     "metadata": {},
     "output_type": "execute_result"
    }
   ],
   "source": [
    "import numpy as np\n",
    "\n",
    "# Define a 2x1 matrix\n",
    "v1 = np.array([[1-2j], [3+1j]])\n",
    "\n",
    "# Compute the conjugate transpose of the vector\n",
    "adjunct_v1 = v1.T.conj()\n",
    "\n",
    "adjunct_v1"
   ]
  },
  {
   "cell_type": "markdown",
   "id": "ba0e9d9d",
   "metadata": {},
   "source": [
    "# SOLUCIÓN MATRICES COMPLEJAS"
   ]
  },
  {
   "cell_type": "markdown",
   "id": "63fd3a75",
   "metadata": {},
   "source": [
    "## Ejercicio 7: suma de 2 matrices complejas"
   ]
  },
  {
   "cell_type": "code",
   "execution_count": 9,
   "id": "9f5bd28a",
   "metadata": {},
   "outputs": [
    {
     "data": {
      "text/plain": [
       "array([[3.-2.j, 3.-1.j],\n",
       "       [3.+3.j, 6.+2.j]])"
      ]
     },
     "execution_count": 9,
     "metadata": {},
     "output_type": "execute_result"
    }
   ],
   "source": [
    "import numpy as np  \n",
    "\n",
    "# Define a 2x2 matrix\n",
    "matrix1 = np.array([[1+1j, 2-1j],\n",
    "                   [3+2j, 4]])\n",
    "matrix2 = np.array([[2-3j, 1],\n",
    "                    [1j, 2+2j]])\n",
    "\n",
    "# Compute the sum of the two matrices\n",
    "sum_m = matrix1 + matrix2\n",
    "\n",
    "sum_m"
   ]
  },
  {
   "cell_type": "markdown",
   "id": "a4675a0e",
   "metadata": {},
   "source": [
    "## Ejercicio 8: negativo de matriz compleja"
   ]
  },
  {
   "cell_type": "code",
   "execution_count": 10,
   "id": "967af9ed",
   "metadata": {},
   "outputs": [
    {
     "data": {
      "text/plain": [
       "array([[-2.-1.j, -3.-0.j],\n",
       "       [-1.+1.j, -4.-0.j]])"
      ]
     },
     "execution_count": 10,
     "metadata": {},
     "output_type": "execute_result"
    }
   ],
   "source": [
    "import numpy as np\n",
    "\n",
    "# Define a 2x2 matrix\n",
    "matrix1 = np.array([[2+1j, 3],\n",
    "                   [1-1j, 2+2]])\n",
    "\n",
    "# Compute the negation of the matrix\n",
    "neg_matrix1 = -matrix1\n",
    "\n",
    "neg_matrix1"
   ]
  },
  {
   "cell_type": "markdown",
   "id": "709e37a8",
   "metadata": {},
   "source": [
    "## Ejercicio multiplicacion matriz compleja con escalar complejo"
   ]
  },
  {
   "cell_type": "code",
   "execution_count": 11,
   "id": "8ee7b7ac",
   "metadata": {},
   "outputs": [
    {
     "data": {
      "text/plain": [
       "array([[ 5. +1.j,  4. +6.j],\n",
       "       [ 3.+11.j, 14. +8.j]])"
      ]
     },
     "execution_count": 11,
     "metadata": {},
     "output_type": "execute_result"
    }
   ],
   "source": [
    "import numpy as np  \n",
    "\n",
    "# Define a 2x2 matrix\n",
    "matrix1 = np.array([[1-1j, 2],\n",
    "                   [3+1j, 4-2j]])\n",
    "scalar = 2 + 3j\n",
    "\n",
    "# Multiply the matrix by the scalar\n",
    "mult_matrix1 = matrix1 * scalar\n",
    "\n",
    "mult_matrix1"
   ]
  },
  {
   "cell_type": "markdown",
   "id": "1c127269",
   "metadata": {},
   "source": [
    "## Ejercicio 10: conjugada de matriz compleja"
   ]
  },
  {
   "cell_type": "code",
   "execution_count": 12,
   "id": "ff168d5b",
   "metadata": {},
   "outputs": [
    {
     "data": {
      "text/plain": [
       "array([[1.-1.j, 2.-0.j],\n",
       "       [3.+1.j, 4.-2.j]])"
      ]
     },
     "execution_count": 12,
     "metadata": {},
     "output_type": "execute_result"
    }
   ],
   "source": [
    "import numpy as np\n",
    "\n",
    "# Define a 2x2 matrix\n",
    "matrix1 = np.array([[1+1j, 2],\n",
    "                   [3-1j, 4+2j]])\n",
    "\n",
    "# Compute the conjugate of the matrix\n",
    "conjugate_matrix1 = np.conjugate(matrix1)\n",
    "\n",
    "conjugate_matrix1"
   ]
  },
  {
   "cell_type": "markdown",
   "id": "472dac98",
   "metadata": {},
   "source": [
    "## Ejercicio 11: transpuesta matriz compleja"
   ]
  },
  {
   "cell_type": "code",
   "execution_count": 14,
   "id": "ce32b2a8",
   "metadata": {},
   "outputs": [
    {
     "data": {
      "text/plain": [
       "array([[1.-1.j, 3.+0.j],\n",
       "       [2.+2.j, 4.-2.j]])"
      ]
     },
     "execution_count": 14,
     "metadata": {},
     "output_type": "execute_result"
    }
   ],
   "source": [
    "import numpy as np\n",
    "\n",
    "# Define a 2x2 matrix\n",
    "matrix1 = np.array([[1-1j, 2+2j],\n",
    "                   [3, 4-2j]])\n",
    "\n",
    "# Compute the transpose of the matrix\n",
    "transpose_matrix1 = matrix1.T\n",
    "\n",
    "transpose_matrix1"
   ]
  },
  {
   "cell_type": "markdown",
   "id": "ea36ecb4",
   "metadata": {},
   "source": [
    "## Ejercicio 12: adjunta transpuesta matriz compleja"
   ]
  },
  {
   "cell_type": "code",
   "execution_count": 15,
   "id": "a6770e19",
   "metadata": {},
   "outputs": [
    {
     "data": {
      "text/plain": [
       "array([[1.-2.j, 4.-0.j],\n",
       "       [3.+1.j, 6.-0.j]])"
      ]
     },
     "execution_count": 15,
     "metadata": {},
     "output_type": "execute_result"
    }
   ],
   "source": [
    "import numpy as np\n",
    "\n",
    "# Define a 2x2 matrix\n",
    "matrix1 = np.array([[1+2j, 3-1j],\n",
    "                   [4, 5+1]])\n",
    "\n",
    "# Compute the conjugate transpose of the matrix\n",
    "adjunct_matrix1 = matrix1.T.conj()\n",
    "\n",
    "adjunct_matrix1"
   ]
  },
  {
   "cell_type": "markdown",
   "id": "1d435cb1",
   "metadata": {},
   "source": [
    "## Ejercicio 13: chequeo de dimensiones"
   ]
  },
  {
   "cell_type": "code",
   "execution_count": 16,
   "id": "5ac27143",
   "metadata": {},
   "outputs": [
    {
     "data": {
      "text/plain": [
       "(2, 2)"
      ]
     },
     "execution_count": 16,
     "metadata": {},
     "output_type": "execute_result"
    }
   ],
   "source": [
    "import numpy as np\n",
    "\n",
    "# Define a 2x2 matrix\n",
    "matrix1 = np.array([[1-1j, 2],\n",
    "                   [3+2j, 4-1j]])\n",
    "\n",
    "# Compute the shape of the matrix\n",
    "shape_matrix1 = matrix1.shape\n",
    "\n",
    "shape_matrix1"
   ]
  },
  {
   "cell_type": "markdown",
   "id": "1a0762e8",
   "metadata": {},
   "source": [
    "# MULTIPLICACIÓN DE MATRICES Y VECTORES"
   ]
  },
  {
   "cell_type": "markdown",
   "id": "ebb637d5",
   "metadata": {},
   "source": [
    "## Ejercicio 14: multiplicando un matriz cuadrada con un vector columna"
   ]
  },
  {
   "cell_type": "code",
   "execution_count": 17,
   "id": "0101cc08",
   "metadata": {},
   "outputs": [
    {
     "data": {
      "text/plain": [
       "array([[8. +6.j],\n",
       "       [7.+10.j]])"
      ]
     },
     "execution_count": 17,
     "metadata": {},
     "output_type": "execute_result"
    }
   ],
   "source": [
    "import numpy as np\n",
    "\n",
    "# Define a 2x2 matrix\n",
    "matrix1 = np.array([[1+1j, 2-1j],\n",
    "                   [3, 4+1j]])\n",
    "\n",
    "# Define a 2x1 matrix\n",
    "v1 = np.array([[2-1j], [1+3j]])\n",
    "\n",
    "# Multiply the matrix by the vector\n",
    "result = np.dot(matrix1, v1)\n",
    "\n",
    "result"
   ]
  }
 ],
 "metadata": {
  "kernelspec": {
   "display_name": "Python 3 (ipykernel)",
   "language": "python",
   "name": "python3"
  },
  "language_info": {
   "codemirror_mode": {
    "name": "ipython",
    "version": 3
   },
   "file_extension": ".py",
   "mimetype": "text/x-python",
   "name": "python",
   "nbconvert_exporter": "python",
   "pygments_lexer": "ipython3",
   "version": "3.12.4"
  }
 },
 "nbformat": 4,
 "nbformat_minor": 5
}
